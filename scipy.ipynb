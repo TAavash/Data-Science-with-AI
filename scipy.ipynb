{
 "cells": [
  {
   "cell_type": "code",
   "execution_count": 1,
   "id": "640b26f6",
   "metadata": {},
   "outputs": [
    {
     "name": "stdout",
     "output_type": "stream",
     "text": [
      "  message: Optimization terminated successfully.\n",
      "  success: True\n",
      "   status: 0\n",
      "      fun: -7.945823375615215\n",
      "        x: [-1.306e+00]\n",
      "      nit: 5\n",
      "      jac: [-1.192e-06]\n",
      " hess_inv: [[ 8.589e-02]]\n",
      "     nfev: 12\n",
      "     njev: 6\n"
     ]
    }
   ],
   "source": [
    "# Optimization\n",
    "\n",
    "from scipy.optimize import minimize\n",
    "import numpy as np\n",
    "\n",
    "def f(x):\n",
    "    return x**2 + 10*np.sin(x)\n",
    "\n",
    "result = minimize(f, x0=0)\n",
    "print(result)"
   ]
  },
  {
   "cell_type": "code",
   "execution_count": 3,
   "id": "90ffa2c5",
   "metadata": {},
   "outputs": [
    {
     "name": "stdout",
     "output_type": "stream",
     "text": [
      "integration od sin(x) from 0 to pi is 2.0\n"
     ]
    }
   ],
   "source": [
    "from scipy.integrate import quad\n",
    "result ,_=quad(np.sin, 0, np.pi)\n",
    "print(\"integration od sin(x) from 0 to pi is\", result)"
   ]
  },
  {
   "cell_type": "code",
   "execution_count": 8,
   "id": "1e2ea5cb",
   "metadata": {},
   "outputs": [
    {
     "name": "stdout",
     "output_type": "stream",
     "text": [
      "9.0\n"
     ]
    }
   ],
   "source": [
    "# interpolation\n",
    "from scipy.interpolate import interp1d\n",
    "x = np.array([0,1,2,3,4,5])\n",
    "y = np.array([0,2,4,6,8,10])\n",
    "f = interp1d(x, y, kind='linear')\n",
    "print(f(4.5))"
   ]
  },
  {
   "cell_type": "code",
   "execution_count": 9,
   "id": "70386c43",
   "metadata": {},
   "outputs": [
    {
     "name": "stdout",
     "output_type": "stream",
     "text": [
      "solution of the system of equations is [2. 3.]\n"
     ]
    }
   ],
   "source": [
    "# linear algebra\n",
    "from scipy.linalg import solve\n",
    "A = np.array([[3,1], [1,2]])\n",
    "B = np.array([9,8])\n",
    "x = solve(A,B)\n",
    "print(\"solution of the system of equations is\", x)"
   ]
  },
  {
   "cell_type": "code",
   "execution_count": 10,
   "id": "40916b62",
   "metadata": {},
   "outputs": [
    {
     "name": "stdout",
     "output_type": "stream",
     "text": [
      "-1.303167531070003\n",
      "0.22877147869670855\n"
     ]
    }
   ],
   "source": [
    "# statistics\n",
    "from scipy.stats import ttest_ind\n",
    "\n",
    "group1 = [2.9,3.0,2.5,2.6,3.2]\n",
    "group2 = [3.8,2.7,4.0,2.4,3.5]\n",
    "\n",
    "t_stat, p_value = ttest_ind(group1, group2)\n",
    "print(t_stat)\n",
    "print(p_value)"
   ]
  },
  {
   "cell_type": "code",
   "execution_count": 14,
   "id": "033d70aa",
   "metadata": {},
   "outputs": [
    {
     "name": "stdout",
     "output_type": "stream",
     "text": [
      "[1 3 5 7 9]\n"
     ]
    }
   ],
   "source": [
    "# signal processing\n",
    "from scipy.signal import find_peaks\n",
    "\n",
    "data = np.array([0,1,0,2,0,3,0,2,0,1,0])\n",
    "\n",
    "peaks, _ = find_peaks(data)\n",
    "print(peaks)"
   ]
  },
  {
   "cell_type": "code",
   "execution_count": 16,
   "id": "cd904a84",
   "metadata": {},
   "outputs": [
    {
     "name": "stdout",
     "output_type": "stream",
     "text": [
      "[45. -0.j         -5.+15.38841769j -5. +6.8819096j  -5. +3.63271264j\n",
      " -5. +1.62459848j -5. -0.j         -5. -1.62459848j -5. -3.63271264j\n",
      " -5. -6.8819096j  -5.-15.38841769j]\n"
     ]
    }
   ],
   "source": [
    "# fft\n",
    "from scipy.fft import fft\n",
    "x = np.array([0,1,2,3,4,5,6,7,8,9])\n",
    "y = fft(x)\n",
    "print(y)"
   ]
  },
  {
   "cell_type": "code",
   "execution_count": 20,
   "id": "4938efa2",
   "metadata": {},
   "outputs": [
    {
     "name": "stdout",
     "output_type": "stream",
     "text": [
      "<Compressed Sparse Row sparse matrix of dtype 'int64'\n",
      "\twith 4 stored elements and shape (3, 6)>\n",
      "  Coords\tValues\n",
      "  (0, 2)\t1\n",
      "  (1, 3)\t1\n",
      "  (2, 0)\t2\n",
      "  (2, 4)\t1\n"
     ]
    }
   ],
   "source": [
    "from scipy.sparse import csr_matrix\n",
    "\n",
    "matrix = np.array([[0,0,1,0,0,0],\n",
    "                   [0,0,0,1,0,0],\n",
    "                   [2,0,0,0,1,0]])\n",
    "sparce_matrix = csr_matrix(matrix)\n",
    "print(sparce_matrix)"
   ]
  },
  {
   "cell_type": "code",
   "execution_count": 5,
   "id": "914cd32d",
   "metadata": {},
   "outputs": [
    {
     "name": "stdout",
     "output_type": "stream",
     "text": [
      "  message: Optimization terminated successfully.\n",
      "  success: True\n",
      "   status: 0\n",
      "      fun: 0.8715489189575822\n",
      "        x: [-5.275e-01]\n",
      "      nit: 4\n",
      "      jac: [ 1.192e-07]\n",
      " hess_inv: [[ 1.090e-01]]\n",
      "     nfev: 12\n",
      "     njev: 6\n"
     ]
    }
   ],
   "source": [
    "# Optimization\n",
    "\n",
    "from scipy.optimize import minimize\n",
    "import numpy as np\n",
    "\n",
    "def f(x):\n",
    "    return -x**3 + 3*x**2+4*x+2\n",
    "\n",
    "result = minimize(f, x0=0)\n",
    "print(result)"
   ]
  },
  {
   "cell_type": "code",
   "execution_count": null,
   "id": "9cee0534",
   "metadata": {},
   "outputs": [],
   "source": []
  }
 ],
 "metadata": {
  "kernelspec": {
   "display_name": ".venv",
   "language": "python",
   "name": "python3"
  },
  "language_info": {
   "codemirror_mode": {
    "name": "ipython",
    "version": 3
   },
   "file_extension": ".py",
   "mimetype": "text/x-python",
   "name": "python",
   "nbconvert_exporter": "python",
   "pygments_lexer": "ipython3",
   "version": "3.13.4"
  }
 },
 "nbformat": 4,
 "nbformat_minor": 5
}
