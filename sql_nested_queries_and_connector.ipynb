{
 "cells": [
  {
   "cell_type": "code",
   "execution_count": 1,
   "id": "2f225fd9",
   "metadata": {},
   "outputs": [],
   "source": [
    "import numpy as np\n",
    "import pandas as pd"
   ]
  },
  {
   "cell_type": "code",
   "execution_count": 2,
   "id": "0c55f863",
   "metadata": {},
   "outputs": [
    {
     "name": "stdout",
     "output_type": "stream",
     "text": [
      "(1, 'Aryam', 'aryambajracharya00@gmail.com')\n",
      "(2, 'Sanjay', 'sanj69@gmail.com')\n",
      "(3, 'Bibek', 'btarung469@gmail.com')\n"
     ]
    }
   ],
   "source": [
    "import mysql.connector\n",
    "\n",
    "conn = mysql.connector.connect(  # Connecting to MySQL database\n",
    "    host='localhost',\n",
    "    user='root',\n",
    "    password=''\n",
    ")\n",
    "\n",
    "cursor = conn.cursor()\n",
    "\n",
    "cursor.execute(\"\"\" CREATE DATABASE IF NOT EXISTS test_db\"\"\")\n",
    "\n",
    "cursor.execute(\"\"\" USE test_db\"\"\")\n",
    "\n",
    "cursor.execute(\"\"\" CREATE TABLE IF NOT EXISTS users (\n",
    "               id INT AUTO_INCREMENT PRIMARY KEY,\n",
    "               name VARCHAR (100),\n",
    "               email VARCHAR (100)\n",
    ")\n",
    "\"\"\")\n",
    "\n",
    "cursor.execute(\"\"\" INSERT INTO users (name, email) VALUES ('Aryam', 'aryambajracharya00@gmail.com')\"\"\")\n",
    "cursor.execute(\"\"\" INSERT INTO users (name, email) VALUES ('Sanjay', 'sanj69@gmail.com')\"\"\")\n",
    "cursor.execute(\"\"\"INSERT INTO users (name, email) VALUES('Bibek', 'btarung469@gmail.com')\"\"\")\n",
    "\n",
    "conn.commit()\n",
    "\n",
    "cursor.execute(\"\"\" SELECT * FROM users\"\"\")\n",
    "for row in cursor.fetchall():\n",
    "    print(row)\n",
    "\n",
    "# cursor.close()\n",
    "# conn.close()\n",
    "\n"
   ]
  },
  {
   "cell_type": "code",
   "execution_count": 3,
   "id": "06f45493",
   "metadata": {},
   "outputs": [
    {
     "name": "stdout",
     "output_type": "stream",
     "text": [
      "[(1, 'Aryam', 'aryambajracharya00@gmail.com')]\n"
     ]
    }
   ],
   "source": [
    "cursor.execute(\"\"\"SELECT * FROM users WHERE name = 'Aryam'\"\"\")\n",
    "print(cursor.fetchall())"
   ]
  },
  {
   "cell_type": "code",
   "execution_count": null,
   "id": "13e25f8d",
   "metadata": {},
   "outputs": [],
   "source": []
  }
 ],
 "metadata": {
  "kernelspec": {
   "display_name": ".venv",
   "language": "python",
   "name": "python3"
  },
  "language_info": {
   "codemirror_mode": {
    "name": "ipython",
    "version": 3
   },
   "file_extension": ".py",
   "mimetype": "text/x-python",
   "name": "python",
   "nbconvert_exporter": "python",
   "pygments_lexer": "ipython3",
   "version": "3.13.4"
  }
 },
 "nbformat": 4,
 "nbformat_minor": 5
}
